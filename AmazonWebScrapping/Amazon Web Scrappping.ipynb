{
 "cells": [
  {
   "cell_type": "code",
   "execution_count": 21,
   "id": "d32f1123-3ee3-4c7a-882f-5ba4d3e7aa64",
   "metadata": {},
   "outputs": [],
   "source": [
    "from bs4 import BeautifulSoup\n",
    "import requests\n",
    "import time\n",
    "import datetime\n",
    "import smtplib\n",
    "import csv \n",
    "import os"
   ]
  },
  {
   "cell_type": "code",
   "execution_count": 25,
   "id": "0d1407c4-ddfc-4cf1-a702-bba2a370c1f3",
   "metadata": {},
   "outputs": [],
   "source": [
    "URL = 'https://www.amazon.com/Funny-Data-Systems-Business-Analyst/dp/B07FNW9FGJ'\n",
    "\n",
    "headers = {\"User-Agent\": \"Mozilla/5.0 (Windows NT 10.0; Win64; x64) AppleWebKit/537.36 (KHTML, like Gecko) Chrome/128.0.0.0 Safari/537.36\"}\n",
    "\n",
    "page = requests.get(URL, headers=headers)\n",
    "\n",
    "soup1 = BeautifulSoup(page.content, \"html.parser\")\n",
    "\n",
    "soup2 = BeautifulSoup(soup1.prettify(), \"html.parser\")\n",
    "\n",
    "title = soup2.find(id='productTitle')\n",
    "if title:\n",
    "    title_text = title.get_text().strip()\n",
    "\n",
    "price = soup2.find(id='priceblock_ourprice')\n",
    "if price:\n",
    "    price_text = price.get_text().strip()\n",
    "today = datetime.date.today()"
   ]
  },
  {
   "cell_type": "code",
   "execution_count": 27,
   "id": "ad3d4b1c-8873-48db-a737-5b69252e8df1",
   "metadata": {},
   "outputs": [],
   "source": [
    "header = ['Title', 'Price', 'Date']\n",
    "data = [ title_text,  price_text, today]\n",
    "\n",
    "\n",
    "# Define your specific path\n",
    "specific_path = r\"C:\\Users\\benne\\Downloads\\Kenny's files\\Project\\python Pandas\\AmazonWeb\\AmazonWebScraperDataset.csv\"\n",
    "os.makedirs(os.path.dirname(specific_path), exist_ok=True)\n",
    "\n",
    "with open(specific_path, 'w', newline='', encoding='UTF8') as f:\n",
    "    writer = csv.writer(f)\n",
    "    writer.writerow(header)\n",
    "    writer.writerow(data)\n"
   ]
  },
  {
   "cell_type": "code",
   "execution_count": 51,
   "id": "81c55cf5-7f35-4d22-9c64-36431841f64c",
   "metadata": {},
   "outputs": [
    {
     "name": "stdout",
     "output_type": "stream",
     "text": [
      "                                               Title  Price        Date\n",
      "0  Funny Got Data MIS Data Systems Business Analy...    NaN  2024-09-13\n",
      "1  Funny Got Data MIS Data Systems Business Analy...    NaN  2024-09-13\n",
      "2  Funny Got Data MIS Data Systems Business Analy...    NaN  2024-09-13\n",
      "3  Funny Got Data MIS Data Systems Business Analy...    NaN  2024-09-13\n"
     ]
    }
   ],
   "source": [
    "import pandas as pd\n",
    "\n",
    "df = pd.read_csv(specific_path)\n",
    "\n",
    "print(df)"
   ]
  },
  {
   "cell_type": "code",
   "execution_count": 49,
   "id": "b0b2ad89-1ca7-47f4-b91a-7e63e8248be6",
   "metadata": {},
   "outputs": [],
   "source": [
    "with open(specific_path, 'a+', newline='', encoding='UTF8') as f:\n",
    "        writer = csv.writer(f)\n",
    "        writer.writerow(data)"
   ]
  },
  {
   "cell_type": "code",
   "execution_count": 47,
   "id": "5b01aecd-2171-4204-abf7-db4a341da403",
   "metadata": {},
   "outputs": [
    {
     "data": {
      "text/html": [
       "<div>\n",
       "<style scoped>\n",
       "    .dataframe tbody tr th:only-of-type {\n",
       "        vertical-align: middle;\n",
       "    }\n",
       "\n",
       "    .dataframe tbody tr th {\n",
       "        vertical-align: top;\n",
       "    }\n",
       "\n",
       "    .dataframe thead th {\n",
       "        text-align: right;\n",
       "    }\n",
       "</style>\n",
       "<table border=\"1\" class=\"dataframe\">\n",
       "  <thead>\n",
       "    <tr style=\"text-align: right;\">\n",
       "      <th></th>\n",
       "      <th>Title</th>\n",
       "      <th>Price</th>\n",
       "      <th>Date</th>\n",
       "    </tr>\n",
       "  </thead>\n",
       "  <tbody>\n",
       "    <tr>\n",
       "      <th>0</th>\n",
       "      <td>Funny Got Data MIS Data Systems Business Analy...</td>\n",
       "      <td>NaN</td>\n",
       "      <td>2024-09-13</td>\n",
       "    </tr>\n",
       "  </tbody>\n",
       "</table>\n",
       "</div>"
      ],
      "text/plain": [
       "                                               Title  Price        Date\n",
       "0  Funny Got Data MIS Data Systems Business Analy...    NaN  2024-09-13"
      ]
     },
     "execution_count": 47,
     "metadata": {},
     "output_type": "execute_result"
    }
   ],
   "source": []
  },
  {
   "cell_type": "code",
   "execution_count": 71,
   "id": "3f2eb842-bcea-43d8-8056-263d15f8ad4c",
   "metadata": {},
   "outputs": [],
   "source": [
    "def check_price():\n",
    "    URL = 'https://www.amazon.com/Funny-Data-Systems-Business-Analyst/dp/B07FNW9FGJ'\n",
    "    headers = {\"User-Agent\": \"Mozilla/5.0 (Windows NT 10.0; Win64; x64) AppleWebKit/537.36 (KHTML, like Gecko) Chrome/128.0.0.0 Safari/537.36\"}\n",
    "\n",
    "    page = requests.get(URL, headers=headers)\n",
    "\n",
    "    soup1 = BeautifulSoup(page.content, \"html.parser\")\n",
    "\n",
    "    soup2 = BeautifulSoup(soup1.prettify(), \"html.parser\")\n",
    "\n",
    "    title = soup2.find(id='productTitle')\n",
    "    if title:\n",
    "        title_text = title.get_text().strip()\n",
    "\n",
    "    price = soup2.find(id='priceblock_ourprice')\n",
    "    if price:\n",
    "        price_text = price.get_text().strip()\n",
    "    today = datetime.date.today()\n",
    "    with open(specific_path, 'a+', newline='', encoding='UTF8') as f:\n",
    "        writer = csv.writer(f)\n",
    "        writer.writerow(data)"
   ]
  },
  {
   "cell_type": "code",
   "execution_count": 77,
   "id": "60187fc1-1e64-4195-8851-d3825e4c7713",
   "metadata": {},
   "outputs": [
    {
     "ename": "KeyboardInterrupt",
     "evalue": "",
     "output_type": "error",
     "traceback": [
      "\u001b[1;31m---------------------------------------------------------------------------\u001b[0m",
      "\u001b[1;31mKeyboardInterrupt\u001b[0m                         Traceback (most recent call last)",
      "Cell \u001b[1;32mIn[77], line 3\u001b[0m\n\u001b[0;32m      1\u001b[0m \u001b[38;5;28;01mwhile\u001b[39;00m(\u001b[38;5;28;01mTrue\u001b[39;00m):\n\u001b[0;32m      2\u001b[0m     check_price()\n\u001b[1;32m----> 3\u001b[0m     time\u001b[38;5;241m.\u001b[39msleep(\u001b[38;5;241m3\u001b[39m)\n",
      "\u001b[1;31mKeyboardInterrupt\u001b[0m: "
     ]
    }
   ],
   "source": [
    "while(True):\n",
    "    check_price()\n",
    "    time.sleep(3)"
   ]
  },
  {
   "cell_type": "code",
   "execution_count": 80,
   "id": "945956d4-f359-498e-b8df-27bc563d1631",
   "metadata": {},
   "outputs": [
    {
     "name": "stdout",
     "output_type": "stream",
     "text": [
      "                                                Title  Price        Date\n",
      "0   Funny Got Data MIS Data Systems Business Analy...    NaN  2024-09-13\n",
      "1   Funny Got Data MIS Data Systems Business Analy...    NaN  2024-09-13\n",
      "2   Funny Got Data MIS Data Systems Business Analy...    NaN  2024-09-13\n",
      "3   Funny Got Data MIS Data Systems Business Analy...    NaN  2024-09-13\n",
      "4   Funny Got Data MIS Data Systems Business Analy...    NaN  2024-09-13\n",
      "5   Funny Got Data MIS Data Systems Business Analy...    NaN  2024-09-13\n",
      "6   Funny Got Data MIS Data Systems Business Analy...    NaN  2024-09-13\n",
      "7   Funny Got Data MIS Data Systems Business Analy...    NaN  2024-09-13\n",
      "8   Funny Got Data MIS Data Systems Business Analy...    NaN  2024-09-13\n",
      "9   Funny Got Data MIS Data Systems Business Analy...    NaN  2024-09-13\n",
      "10  Funny Got Data MIS Data Systems Business Analy...    NaN  2024-09-13\n",
      "11  Funny Got Data MIS Data Systems Business Analy...    NaN  2024-09-13\n",
      "12  Funny Got Data MIS Data Systems Business Analy...    NaN  2024-09-13\n",
      "13  Funny Got Data MIS Data Systems Business Analy...    NaN  2024-09-13\n",
      "14  Funny Got Data MIS Data Systems Business Analy...    NaN  2024-09-13\n",
      "15  Funny Got Data MIS Data Systems Business Analy...    NaN  2024-09-13\n",
      "16  Funny Got Data MIS Data Systems Business Analy...    NaN  2024-09-13\n",
      "17  Funny Got Data MIS Data Systems Business Analy...    NaN  2024-09-13\n"
     ]
    }
   ],
   "source": [
    "import pandas as pd\n",
    "\n",
    "df = pd.read_csv(specific_path)\n",
    "\n",
    "print(df)"
   ]
  },
  {
   "cell_type": "code",
   "execution_count": 90,
   "id": "69ed19c7-5ff4-47c0-be65-52c28d4a674c",
   "metadata": {},
   "outputs": [],
   "source": [
    "def send_mail():\n",
    "    server = smtplib.SMTP_SSL('smtp.gmail.com',465)\n",
    "    server.ehlo()\n",
    "    #server.starttls()\n",
    "    server.ehlo()\n",
    "    server.login('kennychrispin@gmail.com','**********')\n",
    "    \n",
    "    subject = \"The Shirt you want is below $15! Now is your chance to buy!\"\n",
    "    body = \"kenny, This is the moment we have been waiting for. Now is your chance to pick up the shirt of your dreams. Don't mess it up! Link here: https://www.amazon.com/Funny-Data-Systems-Business-Analyst/dp/B07FNW9FGJ/ref=sr_1_3?dchild=1&keywords=data+analyst+tshirt&qid=1626655184&sr=8-3\"\n",
    "   \n",
    "    msg = f\"Subject: {subject}\\n\\n{body}\"\n",
    "    \n",
    "    server.sendmail(\n",
    "        'asura.xpin@gmail.com',\n",
    "        msg\n",
    "     \n",
    "    )"
   ]
  },
  {
   "cell_type": "code",
   "execution_count": null,
   "id": "24f3bf5e-2d33-4391-a060-9964488ec616",
   "metadata": {},
   "outputs": [],
   "source": []
  },
  {
   "cell_type": "code",
   "execution_count": null,
   "id": "f9c89022-8bf2-4910-97e1-76f522121c70",
   "metadata": {},
   "outputs": [],
   "source": []
  }
 ],
 "metadata": {
  "kernelspec": {
   "display_name": "Python 3 (ipykernel)",
   "language": "python",
   "name": "python3"
  },
  "language_info": {
   "codemirror_mode": {
    "name": "ipython",
    "version": 3
   },
   "file_extension": ".py",
   "mimetype": "text/x-python",
   "name": "python",
   "nbconvert_exporter": "python",
   "pygments_lexer": "ipython3",
   "version": "3.12.4"
  }
 },
 "nbformat": 4,
 "nbformat_minor": 5
}
