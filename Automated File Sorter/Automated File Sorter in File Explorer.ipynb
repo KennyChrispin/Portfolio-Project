{
 "cells": [
  {
   "cell_type": "code",
   "execution_count": 109,
   "id": "e81d0956-496e-4ddc-bb07-e3f0689113b3",
   "metadata": {},
   "outputs": [],
   "source": [
    "import os,shutil"
   ]
  },
  {
   "cell_type": "code",
   "execution_count": 111,
   "id": "3924e15b-b5b5-4b12-b58e-e2f7018b3551",
   "metadata": {},
   "outputs": [],
   "source": [
    "path=(r\"C:/Users/benne/Downloads/Kenny's files/Project/python Pandas/Automated File Sorter/data/\")"
   ]
  },
  {
   "cell_type": "code",
   "execution_count": 113,
   "id": "cf4863ea-81b4-42a0-acff-169e1f93f401",
   "metadata": {},
   "outputs": [],
   "source": [
    "file_name=os.listdir(path)"
   ]
  },
  {
   "cell_type": "code",
   "execution_count": 115,
   "id": "6950d77f-6dd5-4a7a-9e48-5943932fdc6d",
   "metadata": {},
   "outputs": [],
   "source": [
    "folder_name=[\"csv files\",\"images files\",\"text files\",\"json files\",\"excel files\"]\n",
    "\n",
    "\n",
    "for loop in range(0,len(folder_name)):\n",
    "    if not os.path.exists(path + folder_name[loop]):\n",
    "        \n",
    "        os.makedirs(path + folder_name[loop])\n"
   ]
  },
  {
   "cell_type": "code",
   "execution_count": 117,
   "id": "b55d5212-5b36-4857-b5dd-fc613d093e94",
   "metadata": {},
   "outputs": [],
   "source": [
    "for file in file_name:\n",
    "    if\".csv\"in file and not os.path.exists(path + \"csv files/\"+file):\n",
    "        shutil.move(path + file,path + \"csv files/\"+file)\n",
    "    elif\".jpg\" in file and not os.path.exists(path + \"images files/\"+file):\n",
    "        shutil.move(path + file,path + \"images files/\"+file)\n",
    "    elif\".json\" in file and not os.path.exists(path + \"json files/\"+file):\n",
    "        shutil.move(path + file,path + \"json files/\"+file)\n",
    "    elif\".txt\" in file and not os.path.exists(path + \"text files/\"+file):\n",
    "        shutil.move(path + file,path + \"text files/\"+file)\n",
    "    elif\".xlsx\" in file and not os.path.exists(path + \"excel files/\"+file):\n",
    "        shutil.move(path + file,path + \"excel files/\"+file)\n",
    "    else:\n",
    "        print(\"this file type not include or its a folder\")"
   ]
  },
  {
   "cell_type": "code",
   "execution_count": null,
   "id": "dd391d2b-e16a-44b3-8ec7-39372f8fa926",
   "metadata": {},
   "outputs": [],
   "source": []
  },
  {
   "cell_type": "code",
   "execution_count": null,
   "id": "7d72223f-f143-4bb0-9897-eb34ceece956",
   "metadata": {},
   "outputs": [],
   "source": []
  },
  {
   "cell_type": "code",
   "execution_count": null,
   "id": "5a618fcc-5faf-4265-91df-473c17890fe8",
   "metadata": {},
   "outputs": [],
   "source": []
  }
 ],
 "metadata": {
  "kernelspec": {
   "display_name": "Python 3 (ipykernel)",
   "language": "python",
   "name": "python3"
  },
  "language_info": {
   "codemirror_mode": {
    "name": "ipython",
    "version": 3
   },
   "file_extension": ".py",
   "mimetype": "text/x-python",
   "name": "python",
   "nbconvert_exporter": "python",
   "pygments_lexer": "ipython3",
   "version": "3.12.4"
  }
 },
 "nbformat": 4,
 "nbformat_minor": 5
}
